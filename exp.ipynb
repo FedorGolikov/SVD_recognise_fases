       # %% [markdown]
# Eigenfaces (SVD) Experiments Notebook (Unified)
#
# Логические блоки:
# 1. Импорты и глобальные настройки
# 2. Загрузка и предобработка
# 3. Фильтрация и разбиение (75/25 stratifed + K-Fold CV)
# 4. Обучение SVD (по energy)
# 5. Метрики расстояний: L2, cosine, L1
# 6. Оценка 1-NN (reconstruction + NN-distance/сimilarity)
# 7. Основной цикл: все размеры, min_photos, energy, метрики, пороги
# 8. Сохранение результатов + визуализация (таблицы, графики)

# %%
# 1) Импорты и глобальные настройки
import os, random
import cv2
import numpy as np
import pandas as pd
from collections import Counter
from time import time
from numpy.linalg import svd, norm
from sklearn.metrics import accuracy_score, f1_score, classification_report
from sklearn.model_selection import train_test_split, StratifiedKFold
import matplotlib.pyplot as plt

# Настройки
DATA_DIR    = "/Users/fedorgolikov/Desktop/lfw-deepfunneled"  # путь к датасету
IMG_SIZES   = [(64,64), (100,100), (250,250)]                  # размеры изображений
MIN_PHOTOS  = [50, 25, 20, 10, 5]                              # пороги на min фото
ENERGIES    = [0.8, 0.9, 0.95, 0.99]                           # доля энергии для SVD
METRICS     = ['l2', 'cosine', 'l1']                           # метрики расстояний 'l2', 'cosine', 'l1'
EPS_FACE    = [None]                                     # пороги reconstruction error
EPS_ID      = [None, 0.01, 0.1, 1]                                  # пороги NN-distance / similarity
SEED        = 42

random.seed(SEED)
np.random.seed(SEED)
folds = StratifiedKFold(n_splits=5, shuffle=True, random_state=SEED)

# %%
# 2) Загрузка и предобработка

def load_images(root_dir, size, grayscale=True):
    imgs, labels = [], []
    for person in os.listdir(root_dir):
        pdir = os.path.join(root_dir, person)
        if not os.path.isdir(pdir): continue
        for fn in os.listdir(pdir):
            if not fn.lower().endswith(('.jpg','jpeg','png')): continue
            img = cv2.imread(os.path.join(pdir, fn), cv2.IMREAD_GRAYSCALE if grayscale else cv2.IMREAD_COLOR)
            if img is None: continue
            img = cv2.resize(img, size)
            imgs.append(img)
            labels.append(person)
    return np.array(imgs), np.array(labels)

# %%
# 3) Фильтрация и разбиение
def filter_min_classes(X, y, min_count):
    cnt = Counter(y)
    mask = np.array([cnt[label] >= min_count for label in y])
    return X[mask], y[mask]

# stratified 75/25 split
def split_stratified(X, y, train_pct=0.75):
    return train_test_split(X, y, train_size=train_pct, stratify=y, random_state=SEED)

# %%
# 4) Обучение SVD по energy
def train_svd(X_tr, energy):
    N, H, W = X_tr.shape
    D = H*W
    Xf = X_tr.reshape(N, D).astype(float)
    mu = Xf.mean(axis=0)
    A = (Xf - mu).T
    U, S, _ = svd(A, full_matrices=False)
    cum = np.cumsum(S**2) / np.sum(S**2)
    k = np.searchsorted(cum, energy) + 1
    return mu, U[:, :k].copy(), k

# %%
# 5) Метрики расстояний
def compute_distances(P_tr, coord, metric):
    if metric == 'l2':
        return norm(P_tr - coord[:, None], axis=0)
    if metric == 'cosine':
        Pn = P_tr / norm(P_tr, axis=0, keepdims=True)
        cn = coord / norm(coord)
        return 1 - (cn @ Pn)
    if metric == 'l1':
        return np.sum(np.abs(P_tr - coord[:, None]), axis=0)
    raise ValueError(f"Unknown metric {metric}")

# %%
# 6) Оценка одного сплита
def evaluate_split(X_tr, y_tr, X_te, y_te, mu, U_k, metric, eps_f=None, eps_i=None):
    Ntr = X_tr.shape[0]
    Nte = X_te.shape[0]
    D = mu.size
    # flatten & center
    Xtr_f = X_tr.reshape(Ntr, -1).astype(float) - mu
    Xte_f = X_te.reshape(Nte, -1).astype(float) - mu
    # project
    P_tr = U_k.T @ Xtr_f.T  # (k, Ntr)
    y_pred = []
    for i in range(Nte):
        coord = U_k.T @ Xte_f[i]
        # reconstruction filter
        if eps_f is not None:
            recon = (U_k @ coord) + mu
            if norm(Xte_f[i] + mu - recon) > eps_f:
                y_pred.append('unknown')
                continue
        dists = compute_distances(P_tr, coord, metric)
        if metric == 'cosine':
            # for cosine lower distance = dissimilarity, best = min(dists)
            best = np.argmin(dists)
            ok = eps_i is None or (1 - dists[best] >= eps_i)
        else:
            best = np.argmin(dists)
            ok = eps_i is None or (dists[best] <= eps_i)
        y_pred.append(y_tr[best] if ok else 'unknown')
    # metrics
    acc = accuracy_score(y_te, y_pred)
    f1 = f1_score(y_te, y_pred, average='macro', zero_division=0)
    return acc, f1

# %%
# 7) Основной цикл экспериментов
results = []
for size in IMG_SIZES:
    X_all, y_all = load_images(DATA_DIR, size)
    print(f"== Size {size}: total {len(X_all)} images ==")
    for minp in MIN_PHOTOS:
        Xf, yf = filter_min_classes(X_all, y_all, minp)
        if len(np.unique(yf)) < 2: continue
        print(f"-- min_photos={minp}, classes={len(np.unique(yf))} --")
        X_tr, X_te, y_tr, y_te = split_stratified(Xf, yf)
        for energy in ENERGIES:
            mu, U_k, k = train_svd(X_tr, energy)
            for metric in METRICS:
                for eps_f in EPS_FACE:
                    for eps_i in EPS_ID:
                        acc, f1 = evaluate_split(
                            X_tr, y_tr, X_te, y_te,
                            mu, U_k, metric, eps_f, eps_i
                        )
                        results.append({
                            'size': size, 'min_photos': minp,
                            'energy': energy, 'k': k,
                            'metric': metric, 'eps_f': eps_f,
                            'eps_id': eps_i, 'acc': acc, 'f1': f1
                        })
                        print(f"[{size}][mp={minp}][{metric}] e={energy:.2f}, k={k:4d}, "
                              f"eps_f={eps_f!s}, eps_i={eps_i!s} -> acc={acc:.3f}, f1={f1:.3f}")
# %%
# 8) Сохранение и визуализация

df = pd.DataFrame(results)
df.to_csv('svd_experiments_full.csv', index=False)
print('✅ Эксперименты завершены, сохранено в svd_experiments_full.csv')

# примеры простых графиков
plt.figure(figsize=(6,4))
for metric in METRICS:
    sub = df[df.metric==metric]
    plt.plot(sub.k, sub.acc, 'o-', label=metric)
plt.xlabel('k (num components)')
plt.ylabel('accuracy')
plt.legend()
plt.title('Accuracy vs k by metric')
plt.show()
